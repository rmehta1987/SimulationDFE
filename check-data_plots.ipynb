{
 "cells": [
  {
   "cell_type": "code",
   "execution_count": 5,
   "metadata": {
    "scrolled": true
   },
   "outputs": [],
   "source": [
    "import torch\n",
    "from torch import nn\n",
    "from sbi import utils as utils\n",
    "from sbi import analysis as analysis\n",
    "from sbi.inference.base import infer\n",
    "from sbi.inference import SNPE, prepare_for_sbi, simulate_for_sbi, SNLE, MNLE, SNRE, SNRE_A\n",
    "from sbi.utils.posterior_ensemble import NeuralPosteriorEnsemble\n",
    "from sbi.utils import BoxUniform\n",
    "from sbi.utils import MultipleIndependent\n",
    "from sbi.neural_nets.embedding_nets import PermutationInvariantEmbedding, FCEmbedding\n",
    "from sbi.utils.user_input_checks import process_prior, process_simulator\n",
    "from sbi.utils import get_density_thresholder, RestrictedPrior\n",
    "from sbi.utils.get_nn_models import posterior_nn\n",
    "import numpy as np\n",
    "import moments\n",
    "from matplotlib import pyplot as plt\n",
    "import pickle\n",
    "import os\n",
    "import seaborn as sns\n",
    "import datetime\n",
    "import pandas as pd\n",
    "import logging\n",
    "import atexit\n",
    "import torch.nn.functional as F\n",
    "import subprocess\n",
    "import sparselinear as sl\n",
    "from sortedcontainers import SortedDict\n",
    "from scipy.spatial import KDTree\n",
    "import os\n",
    "import re\n",
    "from monarch_linear import MonarchLinear\n",
    "import pdb\n",
    "logging.getLogger('matplotlib').setLevel(logging.ERROR) # See: https://github.com/matplotlib/matplotlib/issues/14523\n",
    "from collections import defaultdict\n",
    "from sbi.analysis import pairplot\n",
    "from tqdm import tqdm\n"
   ]
  },
  {
   "cell_type": "code",
   "execution_count": 11,
   "metadata": {},
   "outputs": [],
   "source": [
    "sample_size=85"
   ]
  },
  {
   "cell_type": "code",
   "execution_count": 12,
   "metadata": {},
   "outputs": [],
   "source": [
    "def generate_moments_sim_data2(prior: float) -> torch.float32:\n",
    "    \n",
    "    global sample_size\n",
    "    opt_params = [2.21531687, 5.29769918, 0.55450117, 0.04088086]\n",
    "    theta_mis = 15583.437265450002\n",
    "    theta_lof = 1164.3148344084038\n",
    "    rerun = True\n",
    "    ns_sim = 100\n",
    "    h=0.5\n",
    "    projected_sample_size = sample_size*2\n",
    "    #s_prior, weights = prior[:6], prior[6:]\n",
    "    #s_prior, weights = prior[:5], prior[5:]\n",
    "    #s_prior, p_misid, weights = prior[:7], prior[7], prior[7:]\n",
    "    fs_aggregate = None\n",
    "    p_misid = 0.0021 #.0021 # lof missid # 0.0147 missense\n",
    "    gammas = -1*10**(prior.cpu().numpy().squeeze())\n",
    "    nu_func = lambda t: [opt_params[0] * np.exp(\n",
    "                np.log(opt_params[1] / opt_params[0]) * t / opt_params[3])]\n",
    "    for j, gamma in enumerate(gammas):\n",
    "        while rerun:\n",
    "            #print(gamma, j)\n",
    "            ns_sim = 2 * ns_sim\n",
    "            fs = moments.LinearSystem_1D.steady_state_1D(ns_sim, gamma=gamma, h=h)\n",
    "            fs = moments.Spectrum(fs)\n",
    "            fs.integrate([opt_params[0]], opt_params[2], gamma=gamma, h=h)\n",
    "            \n",
    "            fs.integrate(nu_func, opt_params[3], gamma=gamma, h=h)\n",
    "            if abs(np.max(fs)) > 10 or np.any(np.isnan(fs)):\n",
    "                # large gamma-values can require large sample sizes for stability\n",
    "                rerun = True\n",
    "                del fs\n",
    "            else:\n",
    "                rerun = False\n",
    "        if j == 0:\n",
    "            fs_aggregate = fs.project([projected_sample_size]).compressed()*theta_lof\n",
    "            #check_test_2.append(fs_aggregate)\n",
    "        else:\n",
    "            fs2 = fs.project([projected_sample_size]).compressed()*theta_lof\n",
    "            fs_aggregate += fs2\n",
    "            #check_test_2.append(fs2)\n",
    "            del fs2\n",
    "        rerun = True\n",
    "        ns_sim = 100\n",
    "    \n",
    "    #check_fs_aggregate = np.copy(fs_aggregate)            \n",
    "    fs_aggregate /= gammas.shape[0]\n",
    "    #fs_aggregate = torch.poisson(torch.nn.functional.relu(torch.tensor(fs_aggregate))).type(torch.float32) \n",
    "    fs_aggregate = torch.nn.functional.relu(torch.tensor(fs_aggregate)).type(torch.float32) \n",
    "    #return gammas, check_test_2, check_fs_aggregate, fs_aggregate\n",
    "    return fs_aggregate"
   ]
  },
  {
   "cell_type": "code",
   "execution_count": 7,
   "metadata": {},
   "outputs": [],
   "source": [
    "def generate_momments(prior: float, sample_size) -> torch.float32:\n",
    "    \n",
    "    opt_params = [2.21531687, 5.29769918, 0.55450117, 0.04088086]\n",
    "    theta_mis = 15583.437265450002\n",
    "    theta_lof = 1164.3148344084038\n",
    "    rerun = True\n",
    "    ns_sim = 100\n",
    "    h=0.5\n",
    "    projected_sample_size = sample_size*2\n",
    "    gamma = -1*10**(prior)\n",
    "    p_misid = 0 #.0021 # lof missid\n",
    "\n",
    "    while rerun:\n",
    "        ns_sim = 2 * ns_sim\n",
    "        fs = moments.LinearSystem_1D.steady_state_1D(ns_sim, gamma=gamma, h=h)\n",
    "        fs = moments.Spectrum(fs)\n",
    "        fs.integrate([opt_params[0]], opt_params[2], gamma=gamma, h=h)\n",
    "        nu_func = lambda t: [opt_params[0] * np.exp(\n",
    "            np.log(opt_params[1] / opt_params[0]) * t / opt_params[3])]\n",
    "        fs.integrate(nu_func, opt_params[3], gamma=gamma, h=h)\n",
    "        if abs(np.max(fs)) > 10 or np.any(np.isnan(fs)):\n",
    "            # large gamma-values can require large sample sizes for stability\n",
    "            rerun = True\n",
    "            print(\"rerunning\")\n",
    "        else:\n",
    "            rerun = False\n",
    "        fs2 = fs.project([projected_sample_size]).compressed()*theta_lof\n",
    "        fs2 = (1 - p_misid) * fs2 + p_misid * fs2[::-1]\n",
    "        \n",
    "    return fs2"
   ]
  },
  {
   "cell_type": "code",
   "execution_count": 8,
   "metadata": {},
   "outputs": [],
   "source": [
    "# optimal parameters from moments, gamma\n",
    "# shape: 0.3589\n",
    "# scale: 7830.5\n",
    "gdist = torch.distributions.gamma.Gamma(torch.tensor([0.3589]),torch.tensor([1/7830.5]))\n",
    "gamma_samples = gdist.sample((1000,)).type(torch.int32)"
   ]
  },
  {
   "cell_type": "code",
   "execution_count": 9,
   "metadata": {},
   "outputs": [],
   "source": [
    "udist = torch.distributions.uniform.Uniform(-6.0*torch.ones(50),4.0*torch.ones(50))\n",
    "uniform_samples = udist.sample((1000,))"
   ]
  },
  {
   "cell_type": "code",
   "execution_count": 67,
   "metadata": {},
   "outputs": [
    {
     "name": "stdout",
     "output_type": "stream",
     "text": [
      "rerunning\n",
      "rerunning\n",
      "[ 1.56807761e+000  1.92047862e-004  3.09283739e-008  5.49554045e-012\n",
      "  1.01775767e-015  1.91188976e-019  3.58466579e-023  6.63316621e-027\n",
      "  1.20074054e-030  2.11021947e-034  3.57503841e-038  5.79793904e-042\n",
      "  8.93652579e-046  1.29896117e-049  1.76529847e-053  2.22108648e-057\n",
      "  2.55753885e-061  2.65778165e-065  2.44945132e-069  1.95708051e-073\n",
      "  1.31424473e-077  7.08975219e-082  2.85672160e-086  7.48897812e-091\n",
      "  8.78183348e-096 -2.77437259e-101  5.10761874e-106 -1.73773963e-110\n",
      "  8.68585657e-115 -5.75698542e-119  4.77243795e-123 -4.76409225e-127\n",
      "  5.57626255e-131 -7.50304099e-135  1.14292966e-138 -1.94711855e-142\n",
      "  3.67305161e-146 -7.60877730e-150  1.71869203e-153 -4.20774350e-157\n",
      "  1.11066774e-160 -3.14627244e-164  9.52593434e-168 -3.07135209e-171\n",
      "  1.05107499e-174 -3.80650779e-178  1.45489483e-181 -5.85425267e-185\n",
      "  2.47432372e-188 -1.09615801e-191  5.08013000e-195 -2.45852271e-198\n",
      "  1.24032867e-201 -6.51290841e-205  3.55421303e-208 -2.01295866e-211\n",
      "  1.18161523e-214 -7.18001079e-218  4.51095086e-221 -2.92696139e-224\n",
      "  1.95932825e-227 -1.35174773e-230  9.60194068e-234 -7.01604163e-237\n",
      "  5.26873852e-240 -4.06283806e-243  3.21441590e-246 -2.60722697e-249\n",
      "  2.16633998e-252 -1.84256811e-255  1.60309172e-258 -1.42570484e-261\n",
      "  1.29522437e-264 -1.20121493e-267  1.13653002e-270 -1.09636990e-273\n",
      "  1.07767478e-276 -1.07874203e-279  1.09899970e-282 -1.13889596e-285\n",
      "  1.19988224e-288 -1.28448111e-291  1.39643995e-294 -1.54098120e-297\n",
      "  1.72516999e-300 -1.95843180e-303  2.25326786e-306 -2.62623662e-309\n",
      "  3.09929673e-312 -3.70164585e-315  4.47542942e-318 -5.75092412e-321\n",
      "  0.00000000e+000  0.00000000e+000  0.00000000e+000  0.00000000e+000\n",
      "  0.00000000e+000  0.00000000e+000  0.00000000e+000  0.00000000e+000\n",
      "  0.00000000e+000  0.00000000e+000  0.00000000e+000  0.00000000e+000\n",
      "  0.00000000e+000  0.00000000e+000  0.00000000e+000  0.00000000e+000\n",
      "  0.00000000e+000  0.00000000e+000  0.00000000e+000  0.00000000e+000\n",
      "  0.00000000e+000  0.00000000e+000  0.00000000e+000  0.00000000e+000\n",
      "  0.00000000e+000  0.00000000e+000  0.00000000e+000  0.00000000e+000\n",
      "  0.00000000e+000  0.00000000e+000  0.00000000e+000  0.00000000e+000\n",
      "  0.00000000e+000  0.00000000e+000  0.00000000e+000  0.00000000e+000\n",
      "  0.00000000e+000  0.00000000e+000  0.00000000e+000  0.00000000e+000\n",
      "  0.00000000e+000  0.00000000e+000  0.00000000e+000  0.00000000e+000\n",
      "  0.00000000e+000  0.00000000e+000  0.00000000e+000  0.00000000e+000\n",
      "  0.00000000e+000  0.00000000e+000  0.00000000e+000  0.00000000e+000\n",
      "  0.00000000e+000  0.00000000e+000  0.00000000e+000  0.00000000e+000\n",
      "  0.00000000e+000  0.00000000e+000  0.00000000e+000  0.00000000e+000\n",
      "  0.00000000e+000  0.00000000e+000  0.00000000e+000  0.00000000e+000\n",
      "  0.00000000e+000  0.00000000e+000  0.00000000e+000  0.00000000e+000\n",
      "  0.00000000e+000  0.00000000e+000  0.00000000e+000  0.00000000e+000\n",
      "  0.00000000e+000  0.00000000e+000  0.00000000e+000  0.00000000e+000\n",
      "  0.00000000e+000]\n"
     ]
    }
   ],
   "source": [
    "check_aggregate = generate_momments(4.8, 85)\n",
    "print(check_aggregate)"
   ]
  },
  {
   "cell_type": "code",
   "execution_count": 15,
   "metadata": {},
   "outputs": [],
   "source": [
    "#last_posterior = torch.load('Experiments/saved_posteriors_msl_nsf_and_wass_params_2023-04-07_16-29/posterior_observed_round_10.pkl')\n",
    "last_posterior=torch.load('Experiments/saved_posteriors_msl_lof_scf_sinkhorn_2023-04-10_17-07/posterior_observed_round_5.pkl')\n"
   ]
  },
  {
   "cell_type": "code",
   "execution_count": 16,
   "metadata": {},
   "outputs": [],
   "source": [
    "#true_x = np.load('emperical_missense_sfs_msl.npy')\n",
    "true_x = np.load('emperical_lof_sfs_msl.npy')\n"
   ]
  },
  {
   "cell_type": "code",
   "execution_count": 17,
   "metadata": {},
   "outputs": [],
   "source": [
    "accept_reject_fn = get_density_thresholder(last_posterior, quantile=1e-5, num_samples_to_estimate_support=100000)\n",
    "proposal = RestrictedPrior(last_posterior._prior, accept_reject_fn, last_posterior, sample_with=\"sir\", device='cuda')"
   ]
  },
  {
   "cell_type": "code",
   "execution_count": 28,
   "metadata": {},
   "outputs": [],
   "source": [
    "predicted_fs=[]\n",
    "predicted_fs2=[]\n",
    "sample_size = 85"
   ]
  },
  {
   "cell_type": "code",
   "execution_count": 29,
   "metadata": {},
   "outputs": [],
   "source": [
    "obs_samples = proposal.sample((100,), oversampling_factor=1024)[:10,:-1]\n"
   ]
  },
  {
   "cell_type": "code",
   "execution_count": 344,
   "metadata": {},
   "outputs": [],
   "source": [
    "obs_samples3 = obs_samples[:,:10]"
   ]
  },
  {
   "cell_type": "code",
   "execution_count": 30,
   "metadata": {},
   "outputs": [
    {
     "data": {
      "text/plain": [
       "tensor([ 3.9468, -3.1502,  0.4001, -0.5060, -5.3432,  3.9965,  3.7823,  3.9954,\n",
       "         3.9926,  3.9964], device='cuda:0')"
      ]
     },
     "execution_count": 30,
     "metadata": {},
     "output_type": "execute_result"
    }
   ],
   "source": [
    "torch.mean(obs_samples,dim=0)\n"
   ]
  },
  {
   "cell_type": "code",
   "execution_count": 31,
   "metadata": {},
   "outputs": [
    {
     "name": "stdout",
     "output_type": "stream",
     "text": [
      "Shape of sampled selection coefficients: torch.Size([10, 10])\n"
     ]
    }
   ],
   "source": [
    "print(\"Shape of sampled selection coefficients: {}\".format(obs_samples.shape))"
   ]
  },
  {
   "cell_type": "code",
   "execution_count": 32,
   "metadata": {},
   "outputs": [
    {
     "name": "stderr",
     "output_type": "stream",
     "text": [
      "100%|██████████████████████████████████████████████████████████████████████████████████████████████████████████████████████████████████████████████████████████████████████████████████████████████████████████████████████████████████████████████████████████████████████████████████████████████████| 10/10 [09:03<00:00, 54.35s/it]\n"
     ]
    }
   ],
   "source": [
    "for obs_sample in tqdm(obs_samples):\n",
    "    fs = generate_moments_sim_data2(obs_sample)\n",
    "    predicted_fs.append(fs.unsqueeze(0).cpu().numpy())\n"
   ]
  },
  {
   "cell_type": "code",
   "execution_count": 33,
   "metadata": {},
   "outputs": [
    {
     "name": "stdout",
     "output_type": "stream",
     "text": [
      "Shape of frequency spectrum containing all bins (10, 169)\n"
     ]
    }
   ],
   "source": [
    "new_predicted_fs = np.asarray(predicted_fs).squeeze(1)\n",
    "print(\"Shape of frequency spectrum containing all bins {}\".format(new_predicted_fs.shape))"
   ]
  },
  {
   "cell_type": "code",
   "execution_count": 55,
   "metadata": {},
   "outputs": [],
   "source": [
    "smaller_true_x = np.log10(true_x[1:169:10])\n"
   ]
  },
  {
   "cell_type": "code",
   "execution_count": null,
   "metadata": {},
   "outputs": [],
   "source": [
    "idx = np.arange(1,169,10)\n",
    "print(\"Shape of indices (bin) that were chosen to plot {}\".format(idx.shape[0]))\n",
    "print(\"Showing idx for sanity check\\n\")\n",
    "print(idx)\n",
    "print(\"\\n\")"
   ]
  },
  {
   "cell_type": "code",
   "execution_count": 34,
   "metadata": {},
   "outputs": [
    {
     "data": {
      "text/plain": [
       "<Figure size 640x480 with 0 Axes>"
      ]
     },
     "metadata": {},
     "output_type": "display_data"
    }
   ],
   "source": [
    "plt.ioff()\n",
    "plt.tight_layout()\n",
    "\n",
    "fig = plt.figure(figsize=(30,30))\n",
    "fig.subplots_adjust(hspace=0.6, wspace=0.6)\n",
    "for i in range(1, 25):\n",
    "    ax = fig.add_subplot(5, 5, i)\n",
    "    sns.histplot(np.log10(new_predicted_fs[:,i-1]))\n",
    "    plt.axvline(x=np.mean(np.log10(new_predicted_fs[:,i-1])), color='m', label=\"mean\")\n",
    "    plt.axvline(x=np.median(np.log10(new_predicted_fs[:,i-1])), color='k', label=\"median\")\n",
    "    ax.axline((np.log10(true_x[i-1]), 1), (np.log10(true_x[i-1]),100), marker='+', c='r', label=\"Emperical SFS\")\n",
    "    plt.title(\"Emperical SFS: 10^{:.3f} at bin: {}\".format(np.log10(true_x[i-1]),i))\n",
    "fig.legend([\"mean\", \"median\", \"Emperical SFS\"], loc=\"lower center\", ncol=4)\n",
    "plt.savefig('ppc_check_hist_miss.png')\n",
    "plt.close()\n",
    "\n"
   ]
  },
  {
   "cell_type": "code",
   "execution_count": 39,
   "metadata": {},
   "outputs": [],
   "source": [
    "mean_predicted = np.mean(new_predicted_fs[:],axis=0)"
   ]
  },
  {
   "cell_type": "code",
   "execution_count": 40,
   "metadata": {},
   "outputs": [
    {
     "data": {
      "text/plain": [
       "array([1250.1741 , 1029.977  , 1054.1991 , 1029.2208 , 1222.707  ,\n",
       "       1118.6437 , 1030.3286 , 1029.6094 ,  730.56055, 1036.2322 ],\n",
       "      dtype=float32)"
      ]
     },
     "execution_count": 40,
     "metadata": {},
     "output_type": "execute_result"
    }
   ],
   "source": [
    "new_predicted_fs[:,0]"
   ]
  },
  {
   "cell_type": "code",
   "execution_count": 337,
   "metadata": {},
   "outputs": [],
   "source": [
    "# Test to create a normalized batch tensor of the predicted frequency spectrum\n",
    "temp = torch.tensor(predicted_fs)\n",
    "temp = temp.squeeze(1)"
   ]
  },
  {
   "cell_type": "code",
   "execution_count": 338,
   "metadata": {},
   "outputs": [],
   "source": [
    "norm_predicted_fs = temp/temp.sum(dim=1).view(temp.shape[0],1)"
   ]
  },
  {
   "cell_type": "code",
   "execution_count": 339,
   "metadata": {},
   "outputs": [
    {
     "name": "stdout",
     "output_type": "stream",
     "text": [
      "tensor([3370.9434, 1358.4443,  822.8662,  584.6456,  450.1974,  363.5256,\n",
      "         302.8641,  258.0094,  223.5210,  196.2169])\n",
      "tensor(11438.5957)\n",
      "tensor([0.2947, 0.1188, 0.0719, 0.0511, 0.0394, 0.0318, 0.0265, 0.0226, 0.0195,\n",
      "        0.0172])\n"
     ]
    }
   ],
   "source": [
    "print(temp[0,:10])\n",
    "print(temp.sum(dim=1)[0])\n",
    "print(norm_predicted_fs[0,:10])\n",
    "# Test to create a normalized batch tensor of the predicted frequency spectrum"
   ]
  },
  {
   "cell_type": "code",
   "execution_count": 340,
   "metadata": {},
   "outputs": [
    {
     "data": {
      "text/plain": [
       "array([3374.2642   , 1361.4269   ,  825.75073  ,  587.5043   ,\n",
       "        453.05035  ,  366.37555  ,  305.70734  ,  260.84024  ,\n",
       "        226.33376  ,  199.00636  ,  176.86497  ,  158.59363  ,\n",
       "        143.2868   ,  130.30013  ,  119.16239  ,  109.52099  ,\n",
       "        101.10663  ,   93.71038  ,   87.1675   ,   81.34653  ,\n",
       "         76.14109  ,   71.46456  ,   67.245316 ,   63.42396  ,\n",
       "         59.950645 ,   56.783337 ,   53.886322 ,   51.229076 ,\n",
       "         48.785355 ,   46.532536 ,   44.450882 ,   42.52328  ,\n",
       "         40.73469  ,   39.07191  ,   37.52327  ,   36.07848  ,\n",
       "         34.72836  ,   33.464733 ,   32.28032  ,   31.16855  ,\n",
       "         30.123589 ,   29.140114 ,   28.213364 ,   27.339005 ,\n",
       "         26.513128 ,   25.732172 ,   24.992893 ,   24.292343 ,\n",
       "         23.627832 ,   22.996864 ,   22.39721  ,   21.826763 ,\n",
       "         21.28363  ,   20.766052 ,   20.272406 ,   19.801207 ,\n",
       "         19.35106  ,   18.920698 ,   18.508928 ,   18.114658 ,\n",
       "         17.73687  ,   17.374615 ,   17.027006 ,   16.693237 ,\n",
       "         16.37254  ,   16.06419  ,   15.76753  ,   15.481948 ,\n",
       "         15.206844 ,   14.941687 ,   14.685965 ,   14.439187 ,\n",
       "         14.200925 ,   13.970752 ,   13.748261 ,   13.533093 ,\n",
       "         13.324896 ,   13.123346 ,   12.928119 ,   12.7389345,\n",
       "         12.555511 ,   12.377602 ,   12.204948 ,   12.037318 ,\n",
       "         11.874502 ,   11.716284 ,   11.562481 ,   11.412891 ,\n",
       "         11.267353 ,   11.125696 ,   10.987755 ,   10.853391 ,\n",
       "         10.722456 ,   10.594819 ,   10.470351 ,   10.348932 ,\n",
       "         10.23044  ,   10.114768 ,   10.001821 ,    9.891482 ,\n",
       "          9.783671 ,    9.678291 ,    9.575257 ,    9.47449  ,\n",
       "          9.375908 ,    9.279436 ,    9.185006 ,    9.092544 ,\n",
       "          9.001994 ,    8.913285 ,    8.826363 ,    8.741168 ,\n",
       "          8.657645 ,    8.5757475,    8.495419 ,    8.416613 ,\n",
       "          8.339289 ,    8.263392 ,    8.188891 ,    8.115744 ,\n",
       "          8.043905 ,    7.9733453,    7.9040174,    7.8359003,\n",
       "          7.768953 ,    7.703145 ,    7.6384473,    7.5748262,\n",
       "          7.5122595,    7.4507103,    7.390166 ,    7.330591 ,\n",
       "          7.2719617,    7.2142572,    7.157455 ,    7.10153  ,\n",
       "          7.0464616,    6.9922333,    6.9388194,    6.8862047,\n",
       "          6.8343706,    6.7832985,    6.7329698,    6.6833696,\n",
       "          6.6344805,    6.586286 ,    6.538774 ,    6.491924 ,\n",
       "          6.445725 ,    6.40017  ,    6.3552337,    6.3109107,\n",
       "          6.2671833,    6.2240424,    6.181475 ,    6.1394696,\n",
       "          6.0980186,    6.0571046,    6.016722 ,    5.976857 ,\n",
       "          5.9375043,    5.898647 ,    5.860281 ,    5.8223934,\n",
       "          5.7849793,    5.748027 ,    5.711529 ,    5.675476 ,\n",
       "          5.6398616], dtype=float32)"
      ]
     },
     "execution_count": 340,
     "metadata": {},
     "output_type": "execute_result"
    }
   ],
   "source": [
    "mean_predicted"
   ]
  },
  {
   "cell_type": "code",
   "execution_count": 327,
   "metadata": {},
   "outputs": [
    {
     "data": {
      "text/plain": [
       "array([2.6296e+04, 8.8700e+03, 4.9600e+03, 3.3690e+03, 2.5990e+03,\n",
       "       2.0210e+03, 1.5630e+03, 1.3470e+03, 1.1680e+03, 1.0570e+03,\n",
       "       9.3100e+02, 8.1200e+02, 6.7700e+02, 7.0300e+02, 5.9200e+02,\n",
       "       5.4800e+02, 5.3900e+02, 4.4700e+02, 4.5500e+02, 4.2300e+02,\n",
       "       4.0100e+02, 3.7700e+02, 3.2300e+02, 2.9000e+02, 2.9800e+02,\n",
       "       2.9500e+02, 2.6700e+02, 2.2500e+02, 2.2600e+02, 2.0100e+02,\n",
       "       2.0800e+02, 2.2200e+02, 1.9500e+02, 2.0800e+02, 1.8600e+02,\n",
       "       1.6900e+02, 1.9800e+02, 1.5100e+02, 1.6200e+02, 1.7700e+02,\n",
       "       1.5000e+02, 1.4600e+02, 1.3900e+02, 1.5100e+02, 1.3100e+02,\n",
       "       1.3600e+02, 1.2100e+02, 1.3700e+02, 1.1300e+02, 1.0800e+02,\n",
       "       1.1000e+02, 1.1100e+02, 1.0100e+02, 8.8000e+01, 9.8000e+01,\n",
       "       9.2000e+01, 9.7000e+01, 1.0700e+02, 9.9000e+01, 8.3000e+01,\n",
       "       8.5000e+01, 8.8000e+01, 7.6000e+01, 7.4000e+01, 7.7000e+01,\n",
       "       6.9000e+01, 7.1000e+01, 7.8000e+01, 6.6000e+01, 9.2000e+01,\n",
       "       6.6000e+01, 7.4000e+01, 8.3000e+01, 6.6000e+01, 6.4000e+01,\n",
       "       6.8000e+01, 6.5000e+01, 6.6000e+01, 6.4000e+01, 5.2000e+01,\n",
       "       5.8000e+01, 7.7000e+01, 4.3000e+01, 5.3000e+01, 6.5000e+01,\n",
       "       6.4000e+01, 6.3000e+01, 4.8000e+01, 6.6000e+01, 4.6000e+01,\n",
       "       4.0000e+01, 5.5000e+01, 4.4000e+01, 4.8000e+01, 5.0000e+01,\n",
       "       5.9000e+01, 4.8000e+01, 5.2000e+01, 4.5000e+01, 4.9000e+01,\n",
       "       5.8000e+01, 4.5000e+01, 4.2000e+01, 3.7000e+01, 3.6000e+01,\n",
       "       4.0000e+01, 4.7000e+01, 4.1000e+01, 4.6000e+01, 3.9000e+01,\n",
       "       4.7000e+01, 3.1000e+01, 2.4000e+01, 3.0000e+01, 4.2000e+01,\n",
       "       4.6000e+01, 4.0000e+01, 5.5000e+01, 3.7000e+01, 3.3000e+01,\n",
       "       4.8000e+01, 5.1000e+01, 3.4000e+01, 4.1000e+01, 4.6000e+01,\n",
       "       3.5000e+01, 4.0000e+01, 4.5000e+01, 3.5000e+01, 3.8000e+01,\n",
       "       4.1000e+01, 3.4000e+01, 2.6000e+01, 4.5000e+01, 3.7000e+01,\n",
       "       4.4000e+01, 4.0000e+01, 3.5000e+01, 4.0000e+01, 3.0000e+01,\n",
       "       3.4000e+01, 2.8000e+01, 3.2000e+01, 3.7000e+01, 3.6000e+01,\n",
       "       3.3000e+01, 4.8000e+01, 3.4000e+01, 4.6000e+01, 5.2000e+01,\n",
       "       4.3000e+01, 3.9000e+01, 4.7000e+01, 3.8000e+01, 4.4000e+01,\n",
       "       4.6000e+01, 4.6000e+01, 5.1000e+01, 6.4000e+01, 5.7000e+01,\n",
       "       6.1000e+01, 4.7000e+01, 6.7000e+01, 8.4000e+01, 7.5000e+01,\n",
       "       9.0000e+01, 1.1200e+02, 1.6500e+02, 2.6600e+02])"
      ]
     },
     "execution_count": 327,
     "metadata": {},
     "output_type": "execute_result"
    }
   ],
   "source": [
    "true_x"
   ]
  },
  {
   "cell_type": "code",
   "execution_count": 306,
   "metadata": {},
   "outputs": [
    {
     "data": {
      "text/plain": [
       "array([3.63134201e-01, 1.22490126e-01, 6.84950424e-02, 4.65241528e-02,\n",
       "       3.58908498e-02, 2.79089679e-02, 2.15842240e-02, 1.86013754e-02,\n",
       "       1.61294777e-02, 1.45966250e-02, 1.28566299e-02, 1.12133013e-02,\n",
       "       9.34902091e-03, 9.70806750e-03, 8.17521474e-03, 7.56759743e-03,\n",
       "       7.44331207e-03, 6.17283951e-03, 6.28331538e-03, 5.84141188e-03,\n",
       "       5.53760323e-03, 5.20617560e-03, 4.46046345e-03, 4.00475046e-03,\n",
       "       4.11522634e-03, 4.07379788e-03, 3.68713232e-03, 3.10713398e-03,\n",
       "       3.12094346e-03, 2.77570636e-03, 2.87237275e-03, 3.06570553e-03,\n",
       "       2.69284945e-03, 2.87237275e-03, 2.56856409e-03, 2.33380286e-03,\n",
       "       2.73427790e-03, 2.08523214e-03, 2.23713647e-03, 2.44427873e-03,\n",
       "       2.07142265e-03, 2.01618472e-03, 1.91951833e-03, 2.08523214e-03,\n",
       "       1.80904245e-03, 1.87808987e-03, 1.67094761e-03, 1.89189936e-03,\n",
       "       1.56047173e-03, 1.49142431e-03, 1.51904328e-03, 1.53285276e-03,\n",
       "       1.39475792e-03, 1.21523462e-03, 1.35332947e-03, 1.27047256e-03,\n",
       "       1.33951998e-03, 1.47761483e-03, 1.36713895e-03, 1.14618720e-03,\n",
       "       1.17380617e-03, 1.21523462e-03, 1.04952081e-03, 1.02190184e-03,\n",
       "       1.06333030e-03, 9.52854420e-04, 9.80473389e-04, 1.07713978e-03,\n",
       "       9.11425967e-04, 1.27047256e-03, 9.11425967e-04, 1.02190184e-03,\n",
       "       1.14618720e-03, 9.11425967e-04, 8.83806999e-04, 9.39044936e-04,\n",
       "       8.97616483e-04, 9.11425967e-04, 8.83806999e-04, 7.18093186e-04,\n",
       "       8.00950093e-04, 1.06333030e-03, 5.93807827e-04, 7.31902671e-04,\n",
       "       8.97616483e-04, 8.83806999e-04, 8.69997514e-04, 6.62855249e-04,\n",
       "       9.11425967e-04, 6.35236280e-04, 5.52379374e-04, 7.59521639e-04,\n",
       "       6.07617312e-04, 6.62855249e-04, 6.90474218e-04, 8.14759577e-04,\n",
       "       6.62855249e-04, 7.18093186e-04, 6.21426796e-04, 6.76664733e-04,\n",
       "       8.00950093e-04, 6.21426796e-04, 5.79998343e-04, 5.10950921e-04,\n",
       "       4.97141437e-04, 5.52379374e-04, 6.49045765e-04, 5.66188859e-04,\n",
       "       6.35236280e-04, 5.38569890e-04, 6.49045765e-04, 4.28094015e-04,\n",
       "       3.31427624e-04, 4.14284531e-04, 5.79998343e-04, 6.35236280e-04,\n",
       "       5.52379374e-04, 7.59521639e-04, 5.10950921e-04, 4.55712984e-04,\n",
       "       6.62855249e-04, 7.04283702e-04, 4.69522468e-04, 5.66188859e-04,\n",
       "       6.35236280e-04, 4.83331952e-04, 5.52379374e-04, 6.21426796e-04,\n",
       "       4.83331952e-04, 5.24760405e-04, 5.66188859e-04, 4.69522468e-04,\n",
       "       3.59046593e-04, 6.21426796e-04, 5.10950921e-04, 6.07617312e-04,\n",
       "       5.52379374e-04, 4.83331952e-04, 5.52379374e-04, 4.14284531e-04,\n",
       "       4.69522468e-04, 3.86665562e-04, 4.41903499e-04, 5.10950921e-04,\n",
       "       4.97141437e-04, 4.55712984e-04, 6.62855249e-04, 4.69522468e-04,\n",
       "       6.35236280e-04, 7.18093186e-04, 5.93807827e-04, 5.38569890e-04,\n",
       "       6.49045765e-04, 5.24760405e-04, 6.07617312e-04, 6.35236280e-04,\n",
       "       6.35236280e-04, 7.04283702e-04, 8.83806999e-04, 7.87140608e-04,\n",
       "       8.42378546e-04, 6.49045765e-04, 9.25235452e-04, 1.15999669e-03,\n",
       "       1.03571133e-03, 1.24285359e-03, 1.54666225e-03, 2.27856492e-03,\n",
       "       3.67332284e-03])"
      ]
     },
     "execution_count": 306,
     "metadata": {},
     "output_type": "execute_result"
    }
   ],
   "source": [
    "true_x2 = true_x/true_x.sum()\n",
    "true_x2"
   ]
  },
  {
   "cell_type": "code",
   "execution_count": 44,
   "metadata": {},
   "outputs": [],
   "source": [
    "x = np.arange(0,mean_predicted.shape[0])"
   ]
  },
  {
   "cell_type": "code",
   "execution_count": 60,
   "metadata": {},
   "outputs": [],
   "source": [
    "fig = plt.figure(figsize=(8,8))\n",
    "sns.scatterplot(x=x,y=np.log10(mean_predicted+1), label=\"Predicted\")\n",
    "sns.scatterplot(x=x,y=np.log10(true_x+1), label=\"Emperical\")\n",
    "plt.title(\"Mean of posterior predicted SFS vs True SFS\")\n",
    "plt.ylabel(\"Log Scaled Allele Frequency\")\n",
    "plt.xlabel(\"Frequency Bin\")\n",
    "#fig.legend([\"Predicted\", \"Emperical\"], loc=\"lower center\", ncol=2)\n",
    "plt.savefig('ppc_scatter_lof.png')\n",
    "plt.close()\n"
   ]
  },
  {
   "cell_type": "code",
   "execution_count": 53,
   "metadata": {},
   "outputs": [],
   "source": [
    "obs_samples2 = obs_samples.reshape(-1)\n",
    "obs_samples2.shape\n",
    "samps = obs_samples2.cpu().numpy()\n"
   ]
  },
  {
   "cell_type": "code",
   "execution_count": 61,
   "metadata": {},
   "outputs": [],
   "source": [
    "prior_samps =last_posterior._prior.sample((2000,)).view(-1).cpu().numpy()\n",
    "gamma_samples2 = gdist.sample((1000,))"
   ]
  },
  {
   "cell_type": "code",
   "execution_count": 66,
   "metadata": {},
   "outputs": [],
   "source": [
    "plt.close()\n",
    "fig = plt.figure(figsize=(8,8))\n",
    "sns.kdeplot(samps, label=\"DFE\", c='r')\n",
    "sns.kdeplot(prior_samps, label=\"Initial Proposal\", c='g')\n",
    "sns.kdeplot(torch.log10(gamma_samples2), label=\"Moments Proposal\")\n",
    "plt.title(\"Kernel Density Estimation Inferred Scaled Selection\")\n",
    "plt.ylabel(\"Density\")\n",
    "plt.xlabel(\"Log of Absolute Scaled Selection Coefficient\")\n",
    "fig.legend([\"DFE\", \"Initial Proposal\", \"Moments Proposal\"], loc=\"lower center\", ncol=3)\n",
    "plt.savefig('ppc_mmd_kde_selection.png')\n",
    "plt.close()\n",
    "\n",
    "    "
   ]
  },
  {
   "cell_type": "code",
   "execution_count": 58,
   "metadata": {},
   "outputs": [
    {
     "data": {
      "text/plain": [
       "array([ 3.9935045, -3.4411573, -3.6136167,  1.3261223, -5.8830423,\n",
       "        3.996296 ,  3.8651047,  3.9957   ,  3.9964046,  3.9964104,\n",
       "        3.9939442, -5.0167375,  3.3824282, -4.251507 , -3.4186954,\n",
       "        3.9966106,  3.6330109,  3.9960814,  3.9956932,  3.9964314,\n",
       "        3.8496761, -2.8735144,  2.5188694, -0.6839266, -5.819459 ,\n",
       "        3.9965496,  3.6210136,  3.9954052,  3.9890232,  3.9962568,\n",
       "        3.9948769, -3.0523849,  3.3872833, -2.216776 , -3.1356847,\n",
       "        3.9966087,  3.7913303,  3.9959002,  3.989542 ,  3.9963455,\n",
       "        3.9962912, -5.0614786,  1.4560118, -2.8558784, -5.8096375,\n",
       "        3.996582 ,  3.7620373,  3.9959173,  3.996502 ,  3.9964218,\n",
       "        3.90096  , -2.3870935,  1.9460859, -1.6362019, -5.8646245,\n",
       "        3.9965744,  3.7686205,  3.9951096,  3.9898424,  3.996314 ,\n",
       "        3.7577372, -0.7037678,  3.2789488, -3.3734376, -5.840725 ,\n",
       "        3.9965773,  3.816288 ,  3.9954224,  3.9873314,  3.9962091,\n",
       "        3.9932766, -2.8975136, -5.788995 ,  3.3305435, -5.9017844,\n",
       "        3.9962568,  3.8434105,  3.9959288,  3.9964132,  3.9964123,\n",
       "        3.9937906, -3.1597633,  3.281227 ,  2.3626938, -5.848803 ,\n",
       "        3.9964857,  3.8846416,  3.9936028,  3.9887247,  3.9964037,\n",
       "        3.9936876, -2.908299 , -5.8473406,  2.9386768, -5.90922  ,\n",
       "        3.9962788,  3.837102 ,  3.9953384,  3.9964285,  3.9964142],\n",
       "      dtype=float32)"
      ]
     },
     "execution_count": 58,
     "metadata": {},
     "output_type": "execute_result"
    }
   ],
   "source": [
    "dfe2= samps.squeeze()\n",
    "dfe2"
   ]
  },
  {
   "cell_type": "code",
   "execution_count": 59,
   "metadata": {},
   "outputs": [
    {
     "name": "stdout",
     "output_type": "stream",
     "text": [
      "1e-05 <= |s| < 0.0001: 0.0100000\n",
      "0.0001 <= |s| < 0.001: 0.0700000\n",
      "0.001 <= |s| < 0.01: 0.0600000\n",
      "0.01 <= |s| < 0.1: 0.0100000\n",
      "0.1 <= |s| < 1: 0.0200000\n",
      "1 <= |s| < 100000: 0.7100000\n",
      "|s| > 100000: 0.0000000\n"
     ]
    }
   ],
   "source": [
    "bins = [-5, -4, -3, -2, -1, 0, 5]\n",
    "for s0, s1 in zip(bins[:-1], bins[1:]):\n",
    "    the_dat=np.extract((s0 <= dfe2) & (dfe2 < s1), dfe2)\n",
    "    prop = the_dat.shape[0]/obs_samples2.shape[0]\n",
    "    print(f\"{10**s0} <= |s| < {10**s1}: {prop:.7f}\")\n",
    "    if s1 == bins[-1]:\n",
    "        the_dat=np.extract(dfe2 > s1, dfe2)\n",
    "        prop = the_dat.shape[0]/500000.0\n",
    "        print(f\"|s| > {10**s1}: {prop:.7f}\")"
   ]
  },
  {
   "cell_type": "code",
   "execution_count": 41,
   "metadata": {},
   "outputs": [],
   "source": [
    "# Loss between true and predicted in poisson log-liklihood\n",
    "loss = torch.nn.functional.poisson_nll_loss(torch.tensor(mean_predicted+1), torch.tensor(true_x+1),log_input=False, full=True)"
   ]
  },
  {
   "cell_type": "code",
   "execution_count": 42,
   "metadata": {},
   "outputs": [
    {
     "name": "stdout",
     "output_type": "stream",
     "text": [
      "poisson negative log-liklihood loss 7.422133771241665\n"
     ]
    }
   ],
   "source": [
    "print(\"poisson negative log-liklihood loss {}\".format(loss))"
   ]
  },
  {
   "cell_type": "code",
   "execution_count": 326,
   "metadata": {},
   "outputs": [
    {
     "name": "stdout",
     "output_type": "stream",
     "text": [
      "poisson negative log-liklihood loss 3.217984279400709\n"
     ]
    }
   ],
   "source": [
    "print(\"poisson negative log-liklihood loss {}\".format(loss))"
   ]
  },
  {
   "cell_type": "code",
   "execution_count": null,
   "metadata": {},
   "outputs": [],
   "source": []
  }
 ],
 "metadata": {
  "kernelspec": {
   "display_name": "Python 3 (ipykernel)",
   "language": "python",
   "name": "python3"
  },
  "language_info": {
   "codemirror_mode": {
    "name": "ipython",
    "version": 3
   },
   "file_extension": ".py",
   "mimetype": "text/x-python",
   "name": "python",
   "nbconvert_exporter": "python",
   "pygments_lexer": "ipython3",
   "version": "3.10.6"
  },
  "vscode": {
   "interpreter": {
    "hash": "1c011ed9bb21179cd579adf84b3829b40600ff69d12d61fe328e5e2fbe10069c"
   }
  }
 },
 "nbformat": 4,
 "nbformat_minor": 2
}
