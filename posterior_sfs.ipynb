{
 "cells": [
  {
   "cell_type": "code",
   "execution_count": 1,
   "metadata": {},
   "outputs": [
    {
     "name": "stderr",
     "output_type": "stream",
     "text": [
      "/home/rahul/PopGen/SimulationSFS/SFS/lib/python3.10/site-packages/pkg_resources/__init__.py:123: PkgResourcesDeprecationWarning: 1.1build1 is an invalid version and will not be supported in a future release\n",
      "  warnings.warn(\n",
      "/home/rahul/PopGen/SimulationSFS/SFS/lib/python3.10/site-packages/pkg_resources/__init__.py:123: PkgResourcesDeprecationWarning: 0.1.43ubuntu1 is an invalid version and will not be supported in a future release\n",
      "  warnings.warn(\n"
     ]
    }
   ],
   "source": [
    "import torch\n",
    "from sbi import utils as utils\n",
    "from sbi import analysis as analysis\n",
    "from sbi.inference.base import infer\n",
    "from sbi.inference import SNPE, prepare_for_sbi, simulate_for_sbi, SNLE, MNLE, SNRE, SNRE_A\n",
    "from sbi.utils.posterior_ensemble import NeuralPosteriorEnsemble\n",
    "import numpy as np\n",
    "import moments\n",
    "from matplotlib import pyplot as plt\n",
    "from sbi.utils import BoxUniform\n",
    "from sbi.utils import MultipleIndependent\n",
    "from sbi.neural_nets.embedding_nets import PermutationInvariantEmbedding, FCEmbedding\n",
    "from sbi.utils.user_input_checks import process_prior, process_simulator\n",
    "from sbi.utils import get_density_thresholder, RestrictedPrior\n"
   ]
  },
  {
   "cell_type": "code",
   "execution_count": 2,
   "metadata": {},
   "outputs": [],
   "source": [
    "import seaborn as sns\n",
    "\n",
    "# Setup devices and constants\n",
    "the_device = torch.device('cuda' if torch.cuda.is_available() else 'cpu')\n",
    "sample_size = 10 # Sample size of population, n\n",
    "iid = 50  # number of independent samples, but with the same selection coefficeint (i.e. [P(X_1 | gamma_1), P(X_2 | gamma_1), ... , P(X_iid | gamma_1)])\n",
    "prior_returns_numpy = True # Prior needs to be in numpy format for simulator\n",
    "default_network_type = \"maf\" # TODO change default network to integer discrete flows\n",
    "num_sim = 10 # Number of simulations, number of simulations should increase when number of parameters in the simulation increase\n",
    "rounds = 2 # Number of rounds to train/simulate"
   ]
  },
  {
   "cell_type": "code",
   "execution_count": 4,
   "metadata": {},
   "outputs": [],
   "source": [
    "# When running a more complicated experiment\n",
    "the_device = torch.device('cuda' if torch.cuda.is_available() else 'cpu')\n",
    "\n",
    "sample_size = 500 # Sample size of population, n\n",
    "iid = 50  # number of independent samples, but with the same selection coefficeint (i.e. [P(X_1 | gamma_1), P(X_2 | gamma_1), ... , P(X_iid | gamma_1)])\n",
    "prior_returns_numpy = True # Prior needs to be in numpy format for simulator\n",
    "default_network_type = \"maf\" # TODO change default network to integer discrete flows\n",
    "num_sim = 1000 # Number of simulations, number of simulations should increase when number of parameters in the simulation increase\n",
    "rounds = 10 # Number of rounds to train/simulate"
   ]
  },
  {
   "cell_type": "code",
   "execution_count": 5,
   "metadata": {},
   "outputs": [
    {
     "name": "stdout",
     "output_type": "stream",
     "text": [
      "Using device: cuda\n"
     ]
    }
   ],
   "source": [
    "print(\"Using device: {}\".format(the_device))\n"
   ]
  },
  {
   "cell_type": "code",
   "execution_count": 6,
   "metadata": {},
   "outputs": [],
   "source": [
    "def moment_sim(prior: float) -> torch.float32:\n",
    "    \"\"\"Uses Moments (cite) to create simulated Site Frequency Spectrums of a demographic history\n",
    "\n",
    "    Args:\n",
    "        prior (float): a sampled selection distribution from a prior distribution\n",
    "\n",
    "    Returns:\n",
    "        x: The sampled site-frequency spectrum based on moments via Poisson(E[X | gamma]) where gamma = prior\n",
    "        Output of the simulator needs to be float32 based on SBI format \n",
    "    \"\"\"    \n",
    "    \n",
    "    moment_data =  moments.Spectrum(moments.LinearSystem_1D.steady_state_1D(sample_size, gamma=prior, theta=100.0))  # returns a masked array\n",
    "    \n",
    "    # masked arrays are objects and data is accessed through .data attribute or valid data through .compressed()\n",
    "    actual_fs = moment_data.compressed()  \n",
    "    x = torch.poisson(torch.tensor(actual_fs, device=the_device)).type(torch.float32)\n",
    "        \n",
    "    return x"
   ]
  },
  {
   "cell_type": "code",
   "execution_count": 7,
   "metadata": {},
   "outputs": [],
   "source": [
    "def moment_sim_bin(prior: float) -> torch.float32:\n",
    "    \"\"\"Uses Moments (cite) to create simulated Site Frequency Spectrums of a demographic history\n",
    "\n",
    "    Args:\n",
    "        prior (float): a sampled selection distribution from a prior distribution\n",
    "\n",
    "    Returns:\n",
    "        actual_fs: Returns the expected count of alleles, i.e. E[X|gamma] where gamma = prior\n",
    "        Output of the simulator needs to be float32 based on SBI format \n",
    "    \"\"\"    \n",
    "    \n",
    "    moment_data =  moments.Spectrum(moments.LinearSystem_1D.steady_state_1D(sample_size, gamma=prior, theta=100.0))  # returns a masked array\n",
    "    \n",
    "    # masked arrays are objects and data is accessed through .data attribute or valid data through .compressed()\n",
    "    actual_fs = moment_data.compressed()  \n",
    "    \n",
    "    #x = torch.poisson(torch.tensor(actual_fs, device=the_device)).type(torch.float32)\n",
    "        \n",
    "    return torch.tensor(actual_fs, device=the_device).type(torch.float32)"
   ]
  },
  {
   "cell_type": "code",
   "execution_count": 14,
   "metadata": {},
   "outputs": [],
   "source": [
    "gamma_prior = torch.distributions.Gamma(torch.tensor([100.0],device=the_device), torch.tensor([10.0],device=the_device))\n",
    "# Need to create independent distribution so event_shape is 1, see https://bochang.me/blog/posts/pytorch-distributions/ \n",
    "# and https://ericmjl.github.io/blog/2019/5/29/reasoning-about-shapes-and-probability-distributions/\n",
    "ind_gamma_prior = torch.distributions.independent.Independent(gamma_prior, 1, validate_args=None)  \n",
    "\n",
    "# Set up prior and simulator for SBI\n",
    "prior, num_parameters, prior_returns_numpy = process_prior(ind_gamma_prior)\n",
    "simulator = process_simulator(moment_sim, prior, prior_returns_numpy)\n",
    "\n",
    "# First learn posterior\n",
    "infer_posterior = SNPE(prior, show_progress_bars=True, device='cuda', density_estimator='maf')\n",
    "\n",
    "#posterior parameters\n",
    "vi_parameters = dict(q=\"maf\")\n",
    "\n",
    "proposal = prior\n",
    "posteriors = []\n",
    "\n",
    "true_x = moment_sim(prior.sample((1,)).cpu().numpy())"
   ]
  },
  {
   "cell_type": "code",
   "execution_count": null,
   "metadata": {},
   "outputs": [],
   "source": [
    "# Train posterior\n",
    "for i in range(0,rounds):\n",
    "\n",
    "    theta, x = simulate_for_sbi(simulator, proposal, num_sim)\n",
    "    liklihood_estimator = infer_posterior.append_simulations(theta, x, ).train(force_first_round_loss=True, training_batch_size=50)\n",
    "    posterior = infer_posterior.build_posterior(density_estimator=liklihood_estimator, sample_with = \"vi\", vi_method=\"fKL\", vi_parameters=vi_parameters)\n",
    "    posteriors.append(posterior)\n",
    "    proposal = posterior.set_default_x(true_x).train(max_num_iters=40, quality_control=False )\n",
    "    accept_reject_fn = get_density_thresholder(posterior, quantile=1e-4)\n",
    "    proposal = RestrictedPrior(prior, accept_reject_fn, sample_with=\"rejection\", device=the_device)\n",
    "    #proposal = RestrictedPrior(proposal, accept_reject_fn, sample_with=\"rejection\", device=the_device)\n",
    "\n"
   ]
  },
  {
   "cell_type": "code",
   "execution_count": 16,
   "metadata": {},
   "outputs": [
    {
     "name": "stdout",
     "output_type": "stream",
     "text": [
      "Finished Training posterior and restricted prior\n"
     ]
    }
   ],
   "source": [
    "print(\"Finished Training posterior and restricted prior\")\n"
   ]
  },
  {
   "cell_type": "code",
   "execution_count": 17,
   "metadata": {},
   "outputs": [
    {
     "name": "stdout",
     "output_type": "stream",
     "text": [
      "<sbi.utils.restriction_estimator.RestrictedPrior object at 0x7f46582b0430>\n",
      "The `RestrictedPrior` rejected 0.0%\n",
      "                of prior samples. You will get a speed-up of\n",
      "                0.0%.\n",
      "[[9.5411215]]\n"
     ]
    }
   ],
   "source": [
    "print(proposal)\n",
    "print(proposal.sample((1,)).cpu().numpy())"
   ]
  },
  {
   "cell_type": "code",
   "execution_count": 18,
   "metadata": {},
   "outputs": [
    {
     "name": "stdout",
     "output_type": "stream",
     "text": [
      "Posterior conditional density p(θ|x) of type VIPosterior. It provides Variational inference to .sample() from the posterior and can evaluate the _normalized_ posterior density with .log_prob().\n",
      "[[10.177512]]\n"
     ]
    }
   ],
   "source": [
    "print(posteriors[-1])\n",
    "print(posteriors[-1].sample((1,)).cpu().numpy())"
   ]
  },
  {
   "cell_type": "code",
   "execution_count": null,
   "metadata": {},
   "outputs": [],
   "source": []
  },
  {
   "cell_type": "code",
   "execution_count": 14,
   "metadata": {},
   "outputs": [],
   "source": [
    "class TrainedPosterior:\n",
    "    \"\"\"This posterior has been trained on a specific observation of the site-frequency spectrum\n",
    "\n",
    "    Custom prior with user-defined valid .sample and .log_prob methods.\n",
    "    \"\"\"\n",
    "\n",
    "    def __init__(self, a_proposal, return_numpy: bool = False):\n",
    "        self.prior = a_proposal\n",
    "        self.return_numpy = return_numpy\n",
    "\n",
    "    def sample(self, sample_shape=torch.Size([])):\n",
    "        samples = self.prior.sample(sample_shape)\n",
    "        return samples.cpu().numpy() if self.return_numpy else samples\n",
    "\n",
    "    def log_prob(self, values):\n",
    "        if self.return_numpy:\n",
    "            values = torch.as_tensor(values)\n",
    "        log_probs = self.prior.log_prob(values)\n",
    "        return log_probs.numpy() if self.return_numpy else log_probs"
   ]
  },
  {
   "cell_type": "code",
   "execution_count": 28,
   "metadata": {},
   "outputs": [],
   "source": [
    "class TrainedPosterior:\n",
    "    \"\"\"This posterior has been trained on a specific observation of the site-frequency spectrum\n",
    "\n",
    "    Custom prior with user-defined valid .sample and .log_prob methods.\n",
    "    \"\"\"\n",
    "\n",
    "    def __init__(self, a_proposal, return_numpy: bool = False):\n",
    "        self.prior = a_proposal\n",
    "        self.return_numpy = return_numpy\n",
    "\n",
    "    def sample(self, sample_shape=torch.Size([])):\n",
    "        samples = self.prior.sample(sample_shape)\n",
    "        return samples.cpu().numpy() if self.return_numpy else samples\n",
    "\n",
    "    def log_prob(self, values):\n",
    "        print(values)\n",
    "        log_probs = self.prior.log_prob(values)\n",
    "        return log_probs"
   ]
  },
  {
   "cell_type": "code",
   "execution_count": null,
   "metadata": {},
   "outputs": [],
   "source": [
    "# Set up inference scheme for posterior of selection given a specific frequency\n",
    "bin_proposal, *_ = process_prior(proposal)\n",
    "simulator_bin = process_simulator(moment_sim_bin, bin_proposal, prior_returns_numpy)\n",
    "inference_bin = SNRE(prior = bin_proposal, device=\"cuda\")\n",
    "\n",
    "sel_bin_proposal = bin_proposal\n",
    "\n"
   ]
  },
  {
   "cell_type": "code",
   "execution_count": 40,
   "metadata": {},
   "outputs": [
    {
     "name": "stdout",
     "output_type": "stream",
     "text": [
      "The `RestrictedPrior` rejected 0.0%\n",
      "                of prior samples. You will get a speed-up of\n",
      "                0.0%.\n"
     ]
    }
   ],
   "source": [
    "sel_bin_posteriors = [[] for _ in range(sample_size)]\n",
    "true_sel = bin_proposal.sample((1,)).cpu().numpy()\n",
    "true_fs = moment_sim_bin(true_sel)"
   ]
  },
  {
   "cell_type": "code",
   "execution_count": null,
   "metadata": {},
   "outputs": [],
   "source": [
    "for i in range(0, sample_size-1, 100):\n",
    "    \n",
    "    for _ in range(rounds):\n",
    "        theta, x = simulate_for_sbi(simulator_bin, sel_bin_proposal, num_sim)\n",
    "        x2 = x[:, i].unsqueeze(-1)\n",
    "        print(x2.shape)\n",
    "        print(theta.shape)\n",
    "        inference_bin.append_simulations(theta, x2)\n",
    "        ratio_estimator = inference_bin.train()\n",
    "        posterior = inference_bin.build_posterior(density_estimator=ratio_estimator)\n",
    "        sel_bin_posteriors[i].append(posterior)\n",
    "        #sel_bin_proposal = posterior.set_default_x(true_fs[i].unsqueeze(-1)).train(max_num_iters=40, quality_control=False )\n",
    "    inference_bin = SNRE(prior = bin_proposal, device=\"cuda\")\n",
    "    sel_bin_proposal = bin_proposal\n"
   ]
  },
  {
   "cell_type": "code",
   "execution_count": 43,
   "metadata": {},
   "outputs": [
    {
     "data": {
      "text/plain": [
       "[MCMCPosterior sampler for potential_fn=<RatioBasedPotential>,\n",
       " MCMCPosterior sampler for potential_fn=<RatioBasedPotential>,\n",
       " MCMCPosterior sampler for potential_fn=<RatioBasedPotential>,\n",
       " MCMCPosterior sampler for potential_fn=<RatioBasedPotential>,\n",
       " MCMCPosterior sampler for potential_fn=<RatioBasedPotential>,\n",
       " MCMCPosterior sampler for potential_fn=<RatioBasedPotential>,\n",
       " MCMCPosterior sampler for potential_fn=<RatioBasedPotential>,\n",
       " MCMCPosterior sampler for potential_fn=<RatioBasedPotential>,\n",
       " MCMCPosterior sampler for potential_fn=<RatioBasedPotential>,\n",
       " MCMCPosterior sampler for potential_fn=<RatioBasedPotential>]"
      ]
     },
     "execution_count": 43,
     "metadata": {},
     "output_type": "execute_result"
    }
   ],
   "source": [
    "sel_bin_posteriors[0]"
   ]
  },
  {
   "cell_type": "code",
   "execution_count": 56,
   "metadata": {},
   "outputs": [
    {
     "name": "stdout",
     "output_type": "stream",
     "text": [
      "The `RestrictedPrior` rejected 0.0%\n",
      "                of prior samples. You will get a speed-up of\n",
      "                0.0%.\n"
     ]
    },
    {
     "name": "stderr",
     "output_type": "stream",
     "text": [
      "Sample: 100%|██████████| 1011/1011 [00:21, 47.76it/s]\n"
     ]
    }
   ],
   "source": [
    "post = sel_bin_posteriors[0][-1]\n",
    "post.set_default_x(true_fs[0])\n",
    "bin1=post.sample((100,), method=\"slice\")"
   ]
  },
  {
   "cell_type": "code",
   "execution_count": null,
   "metadata": {},
   "outputs": [],
   "source": [
    "bin1"
   ]
  },
  {
   "cell_type": "code",
   "execution_count": 63,
   "metadata": {},
   "outputs": [
    {
     "name": "stdout",
     "output_type": "stream",
     "text": [
      "The `RestrictedPrior` rejected 0.0%\n",
      "                of prior samples. You will get a speed-up of\n",
      "                0.0%.\n"
     ]
    },
    {
     "name": "stderr",
     "output_type": "stream",
     "text": [
      "Sample: 100%|██████████| 1011/1011 [00:19, 53.21it/s]\n"
     ]
    }
   ],
   "source": [
    "post = sel_bin_posteriors[100][-1]\n",
    "post.set_default_x(true_fs[100])\n",
    "bin100=post.sample((100,), method=\"slice\")"
   ]
  },
  {
   "cell_type": "code",
   "execution_count": 66,
   "metadata": {},
   "outputs": [
    {
     "name": "stdout",
     "output_type": "stream",
     "text": [
      "mean samples of bin 100: 11.466318130493164\n",
      "True fs: 1.2407294511795044\n"
     ]
    }
   ],
   "source": [
    "print(\"mean samples of bin 100: {}\".format(torch.mean(bin100)))\n",
    "print(\"True fs: {}\".format(true_fs[100]))"
   ]
  },
  {
   "cell_type": "code",
   "execution_count": 44,
   "metadata": {},
   "outputs": [
    {
     "data": {
      "text/plain": [
       "[MCMCPosterior sampler for potential_fn=<RatioBasedPotential>,\n",
       " MCMCPosterior sampler for potential_fn=<RatioBasedPotential>,\n",
       " MCMCPosterior sampler for potential_fn=<RatioBasedPotential>,\n",
       " MCMCPosterior sampler for potential_fn=<RatioBasedPotential>,\n",
       " MCMCPosterior sampler for potential_fn=<RatioBasedPotential>,\n",
       " MCMCPosterior sampler for potential_fn=<RatioBasedPotential>,\n",
       " MCMCPosterior sampler for potential_fn=<RatioBasedPotential>,\n",
       " MCMCPosterior sampler for potential_fn=<RatioBasedPotential>,\n",
       " MCMCPosterior sampler for potential_fn=<RatioBasedPotential>,\n",
       " MCMCPosterior sampler for potential_fn=<RatioBasedPotential>]"
      ]
     },
     "execution_count": 44,
     "metadata": {},
     "output_type": "execute_result"
    }
   ],
   "source": [
    "post2 = sel_bin_posteriors[100][-1]\n",
    "post2.set_default_x(true_fs[100])\n",
    "bin2=post.sample((10000,))"
   ]
  },
  {
   "cell_type": "code",
   "execution_count": 67,
   "metadata": {},
   "outputs": [
    {
     "ename": "NameError",
     "evalue": "name 'bin2' is not defined",
     "output_type": "error",
     "traceback": [
      "\u001b[0;31m---------------------------------------------------------------------------\u001b[0m",
      "\u001b[0;31mNameError\u001b[0m                                 Traceback (most recent call last)",
      "Cell \u001b[0;32mIn [67], line 1\u001b[0m\n\u001b[0;32m----> 1\u001b[0m \u001b[39mprint\u001b[39m(\u001b[39m\"\u001b[39m\u001b[39mmean samples of bin 100: \u001b[39m\u001b[39m{}\u001b[39;00m\u001b[39m\"\u001b[39m\u001b[39m.\u001b[39mformat(torch\u001b[39m.\u001b[39mmean(bin2)))\n\u001b[1;32m      2\u001b[0m \u001b[39mprint\u001b[39m(\u001b[39m\"\u001b[39m\u001b[39mTrue fs: \u001b[39m\u001b[39m{}\u001b[39;00m\u001b[39m\"\u001b[39m\u001b[39m.\u001b[39mformat(true_fs[\u001b[39m100\u001b[39m]))\n",
      "\u001b[0;31mNameError\u001b[0m: name 'bin2' is not defined"
     ]
    }
   ],
   "source": [
    "print(\"mean samples of bin 100: {}\".format(torch.mean(bin2)))\n",
    "print(\"True fs: {}\".format(true_fs[100]))"
   ]
  },
  {
   "cell_type": "code",
   "execution_count": 25,
   "metadata": {},
   "outputs": [
    {
     "data": {
      "text/plain": [
       "torch.Size([1000, 499])"
      ]
     },
     "execution_count": 25,
     "metadata": {},
     "output_type": "execute_result"
    }
   ],
   "source": [
    "x.shape"
   ]
  },
  {
   "cell_type": "code",
   "execution_count": 68,
   "metadata": {},
   "outputs": [],
   "source": [
    "sel_bin_posteriors2 = [[] for _ in range(sample_size)]\n"
   ]
  },
  {
   "cell_type": "code",
   "execution_count": 69,
   "metadata": {},
   "outputs": [
    {
     "name": "stdout",
     "output_type": "stream",
     "text": [
      "The `RestrictedPrior` rejected 0.0%\n",
      "                of prior samples. You will get a speed-up of\n",
      "                0.0%.\n"
     ]
    },
    {
     "name": "stderr",
     "output_type": "stream",
     "text": [
      "/home/rahul/PopGen/SimulationSFS/SFS/lib/python3.10/site-packages/sbi/utils/torchutils.py:27: UserWarning: GPU was selected as a device for training the neural network. Note that we expect **no** significant speed ups in training for the default architectures we provide. Using the GPU will be effective only for large neural networks with operations that are fast on the GPU, e.g., for a CNN or RNN `embedding_net`.\n",
      "  warnings.warn(\n"
     ]
    }
   ],
   "source": [
    "inference_bin = SNRE(prior = bin_proposal, device=\"cuda\")\n",
    "sel_bin_proposal = bin_proposal"
   ]
  },
  {
   "cell_type": "code",
   "execution_count": null,
   "metadata": {},
   "outputs": [],
   "source": [
    "for i in range(0, sample_size-1):\n",
    "    \n",
    "    for _ in range(rounds):\n",
    "        theta, x = simulate_for_sbi(simulator_bin, sel_bin_proposal, num_sim)\n",
    "        x2 = x[:, i].unsqueeze(-1)\n",
    "        #print(x2.shape)\n",
    "        #print(theta.shape)\n",
    "        inference_bin.append_simulations(theta, x2)\n",
    "        ratio_estimator = inference_bin.train()\n",
    "        posterior = inference_bin.build_posterior(density_estimator=ratio_estimator)\n",
    "        sel_bin_posteriors2[i].append(posterior)\n",
    "        #sel_bin_proposal = posterior.set_default_x(true_fs[i].unsqueeze(-1)).train(max_num_iters=40, quality_control=False )\n",
    "    inference_bin = SNRE(prior = bin_proposal, device=\"cuda\")\n",
    "    sel_bin_proposal = bin_proposal\n",
    "\n",
    "print(\"Finished all sample sizes\")"
   ]
  },
  {
   "cell_type": "code",
   "execution_count": 72,
   "metadata": {},
   "outputs": [],
   "source": [
    "import os\n",
    "os.mkdir('SNRE_Posteriors')"
   ]
  },
  {
   "cell_type": "code",
   "execution_count": 77,
   "metadata": {},
   "outputs": [],
   "source": [
    "test = sel_bin_posteriors2[0][-1].set_default_x(true_fs[0])"
   ]
  },
  {
   "cell_type": "code",
   "execution_count": 80,
   "metadata": {},
   "outputs": [
    {
     "name": "stdout",
     "output_type": "stream",
     "text": [
      "The `RestrictedPrior` rejected 0.0%\n",
      "                of prior samples. You will get a speed-up of\n",
      "                0.0%.\n"
     ]
    },
    {
     "name": "stderr",
     "output_type": "stream",
     "text": [
      "Sample: 100%|██████████| 10011/10011 [03:19, 50.29it/s]]\n"
     ]
    },
    {
     "ename": "NameError",
     "evalue": "name 'sns' is not defined",
     "output_type": "error",
     "traceback": [
      "\u001b[0;31m---------------------------------------------------------------------------\u001b[0m",
      "\u001b[0;31mNameError\u001b[0m                                 Traceback (most recent call last)",
      "Cell \u001b[0;32mIn [80], line 2\u001b[0m\n\u001b[1;32m      1\u001b[0m bin1\u001b[39m=\u001b[39mtest\u001b[39m.\u001b[39msample((\u001b[39m1000\u001b[39m,), method\u001b[39m=\u001b[39m\u001b[39m\"\u001b[39m\u001b[39mslice\u001b[39m\u001b[39m\"\u001b[39m)\n\u001b[0;32m----> 2\u001b[0m sns\u001b[39m.\u001b[39mhistplot(bin1\u001b[39m.\u001b[39mcpu()\u001b[39m.\u001b[39mnumpy())\n",
      "\u001b[0;31mNameError\u001b[0m: name 'sns' is not defined"
     ]
    }
   ],
   "source": [
    "bin1=test.sample((1000,), method=\"slice\")\n"
   ]
  },
  {
   "cell_type": "code",
   "execution_count": 83,
   "metadata": {},
   "outputs": [],
   "source": [
    "import seaborn as sns\n",
    "import logging\n",
    "logging.getLogger('matplotlib').setLevel(logging.ERROR) # See: https://github.com/matplotlib/matplotlib/issues/14523"
   ]
  },
  {
   "cell_type": "code",
   "execution_count": 91,
   "metadata": {},
   "outputs": [
    {
     "data": {
      "text/plain": [
       "<AxesSubplot: ylabel='Count'>"
      ]
     },
     "execution_count": 91,
     "metadata": {},
     "output_type": "execute_result"
    },
    {
     "data": {
      "image/png": "[encoded data removed]",
      "text/plain": [
       "<Figure size 640x480 with 1 Axes>"
      ]
     },
     "metadata": {},
     "output_type": "display_data"
    }
   ],
   "source": [
    "sns.histplot(bin1.cpu().numpy(), kde=True)\n",
    "#plt.plot(true_fs[0].cpu().numpy())\n"
   ]
  },
  {
   "cell_type": "code",
   "execution_count": 1,
   "metadata": {},
   "outputs": [
    {
     "ename": "NameError",
     "evalue": "name 'sample_size' is not defined",
     "output_type": "error",
     "traceback": [
      "\u001b[0;31m---------------------------------------------------------------------------\u001b[0m",
      "\u001b[0;31mNameError\u001b[0m                                 Traceback (most recent call last)",
      "Cell \u001b[0;32mIn [1], line 2\u001b[0m\n\u001b[1;32m      1\u001b[0m all_samples \u001b[39m=\u001b[39m []\n\u001b[0;32m----> 2\u001b[0m \u001b[39mfor\u001b[39;00m i \u001b[39min\u001b[39;00m \u001b[39mrange\u001b[39m(\u001b[39m0\u001b[39m, sample_size\u001b[39m-\u001b[39m\u001b[39m1\u001b[39m):\n\u001b[1;32m      3\u001b[0m     posterior_bin_observed \u001b[39m=\u001b[39m sel_bin_posteriors2[i][\u001b[39m-\u001b[39m\u001b[39m1\u001b[39m]\u001b[39m.\u001b[39mset_default_x(true_fs[i])\n\u001b[1;32m      4\u001b[0m     samples \u001b[39m=\u001b[39m posterior_bin_observed\u001b[39m.\u001b[39msample((\u001b[39m1000\u001b[39m,), method\u001b[39m=\u001b[39m\u001b[39m\"\u001b[39m\u001b[39mslice\u001b[39m\u001b[39m\"\u001b[39m)\n",
      "\u001b[0;31mNameError\u001b[0m: name 'sample_size' is not defined"
     ]
    }
   ],
   "source": [
    "all_samples = []\n",
    "for i in range(0, sample_size-1):\n",
    "    posterior_bin_observed = sel_bin_posteriors2[i][-1].set_default_x(true_fs[i])\n",
    "    samples = posterior_bin_observed.sample((1000,), method=\"slice\")\n",
    "    all_samples.append(samples)\n",
    "    sns.histplot(samples.cpu().numpy(), kde=True)\n",
    "    plt.savefig('SNRE_Posteriors/bin_sample_{}.png'.format(i)\n",
    "    )\n",
    "    plt.close()\n",
    "\n",
    "print(\"Finished creating plots\")"
   ]
  }
 ],
 "metadata": {
  "kernelspec": {
   "display_name": "Python 3.10.6 ('momentssfs': venv)",
   "language": "python",
   "name": "python3"
  },
  "language_info": {
   "codemirror_mode": {
    "name": "ipython",
    "version": 3
   },
   "file_extension": ".py",
   "mimetype": "text/x-python",
   "name": "python",
   "nbconvert_exporter": "python",
   "pygments_lexer": "ipython3",
   "version": "3.10.6"
  },
  "vscode": {
   "interpreter": {
    "hash": "6f084eca7dc74f075eb6bc7632aae494e689a3c4796a436520fb2a71f45883af"
   }
  }
 },
 "nbformat": 4,
 "nbformat_minor": 4
}
